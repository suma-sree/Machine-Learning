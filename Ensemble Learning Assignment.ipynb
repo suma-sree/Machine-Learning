{
 "cells": [
  {
   "cell_type": "markdown",
   "id": "9facd53a-0b0a-49a9-add3-b4e91caccb21",
   "metadata": {},
   "source": [
    "# THEORETICAL"
   ]
  },
  {
   "cell_type": "markdown",
   "id": "636931dc-31bb-40b6-96d7-fc027297cb11",
   "metadata": {},
   "source": [
    "1. Can we use Bagging for regression problems?\n",
    "\n",
    "Yes, Bagging can be used for regression problems. Bagging Regressor uses bootstrap sampling and averages the predictions from multiple base regressors, reducing variance and improving accuracy."
   ]
  },
  {
   "cell_type": "markdown",
   "id": "19730cee-354a-4d1f-9e4a-48827521b0c5",
   "metadata": {},
   "source": [
    "2. What is the difference between multiple model training and single model training?\n",
    "\n",
    "Single model training involves training a single model on the dataset, while multiple model training (as in ensemble methods) combines the predictions of several models to improve overall performance by reducing overfitting and variance."
   ]
  },
  {
   "cell_type": "markdown",
   "id": "93ee42b5-db50-4bf5-b475-cac00ad3d860",
   "metadata": {},
   "source": [
    "3. Explain the concept of feature randomness in Random Forest.\n",
    "\n",
    "Feature randomness in Random Forest refers to the process of selecting a random subset of features at each split of a decision tree, which helps to increase diversity among trees and reduces correlation, enhancing model robustness."
   ]
  },
  {
   "cell_type": "markdown",
   "id": "993a2448-671d-40e3-a6fd-cff8c72854ed",
   "metadata": {},
   "source": [
    "4. What is OOB (Out-of-Bag) Score?\n",
    "\n",
    "The OOB score is an internal validation method in Random Forest where each tree is trained on a bootstrap sample, and the samples not included (out-of-bag samples) are used to estimate the model’s prediction error."
   ]
  },
  {
   "cell_type": "markdown",
   "id": "67595a3b-4f1a-4f01-972c-70cd0427cfe0",
   "metadata": {},
   "source": [
    "5. How can you measure the importance of features in a Random Forest model?\n",
    "\n",
    "Feature importance in Random Forest is measured by calculating the decrease in impurity (Gini importance) or the mean decrease in accuracy when a feature’s values are permuted."
   ]
  },
  {
   "cell_type": "markdown",
   "id": "6ac79a28-cc1f-4240-b30a-481dea301e9d",
   "metadata": {},
   "source": [
    "6. Explain the working principle of a Bagging Classifier.\n",
    "\n",
    "A Bagging Classifier trains multiple base classifiers on different bootstrap samples and combines their predictions using majority voting for classification tasks."
   ]
  },
  {
   "cell_type": "markdown",
   "id": "b9f00163-9847-49d8-9fdb-b4a76a3330a9",
   "metadata": {},
   "source": [
    "7. How do you evaluate a Bagging Classifier’s performance?\n",
    "\n",
    "A Bagging Classifier’s performance can be evaluated using accuracy, precision, recall, F1-score, cross-validation scores, and ROC-AUC depending on the problem type."
   ]
  },
  {
   "cell_type": "markdown",
   "id": "a268b872-05bb-49d8-89a9-3f953dd5de86",
   "metadata": {},
   "source": [
    "8. How does a Bagging Regressor work?\n",
    "\n",
    "A Bagging Regressor works by training multiple base regressors on different bootstrap samples and averaging their predictions to produce the final output, reducing variance."
   ]
  },
  {
   "cell_type": "markdown",
   "id": "758aed69-0f7f-4e19-866f-8f416859fa8a",
   "metadata": {},
   "source": [
    "9. What is the main advantage of ensemble techniques?\n",
    "\n",
    "The main advantage of ensemble techniques is their ability to reduce variance, bias, or both, resulting in improved model accuracy and robustness."
   ]
  },
  {
   "cell_type": "markdown",
   "id": "9aa4a624-771e-47ea-8eaf-245f206fabf3",
   "metadata": {},
   "source": [
    "10. What is the main challenge of ensemble methods?\n",
    "\n",
    "The main challenge of ensemble methods is increased computational complexity and the risk of overfitting if the base models are too complex."
   ]
  },
  {
   "cell_type": "markdown",
   "id": "16f32326-a756-445a-9996-fe61f8de3cc3",
   "metadata": {},
   "source": [
    "11. Explain the key idea behind ensemble techniques.\n",
    "\n",
    "Ensemble techniques combine the predictions of multiple models to produce a superior predictive performance compared to individual models by reducing errors due to bias or variance."
   ]
  },
  {
   "cell_type": "markdown",
   "id": "6342733b-440a-4ef3-aa99-07ed254e7b24",
   "metadata": {},
   "source": [
    "12. What is a Random Forest Classifier?\n",
    "\n",
    "A Random Forest Classifier is an ensemble learning method that constructs multiple decision trees during training and outputs the class that is the mode of the classes predicted by individual trees."
   ]
  },
  {
   "cell_type": "markdown",
   "id": "3a47aa15-b8c0-4c1e-872e-f713ca6f211c",
   "metadata": {},
   "source": [
    "13. What are the main types of ensemble techniques?\n",
    "\n",
    "The main types of ensemble techniques are Bagging, Boosting, Stacking, and Voting."
   ]
  },
  {
   "cell_type": "markdown",
   "id": "bf3b3b3e-a4a5-4387-ab8f-80f3f12c6f01",
   "metadata": {},
   "source": [
    "14. What is ensemble learning in machine learning?\n",
    "\n",
    "Ensemble learning is a technique in machine learning where multiple models (often called base models) are trained and combined to solve the same problem, aiming to achieve better predictive performance."
   ]
  },
  {
   "cell_type": "markdown",
   "id": "f2b8ef89-d937-454d-af69-0af1af9a5c84",
   "metadata": {},
   "source": [
    "15. When should we avoid using ensemble methods?\n",
    "\n",
    "Ensemble methods should be avoided when computational resources are limited, when the dataset is small, or when a simple model already provides sufficient accuracy."
   ]
  },
  {
   "cell_type": "markdown",
   "id": "17267dab-a155-40f2-a831-acffeb24f785",
   "metadata": {},
   "source": [
    "16. How does Bagging help in reducing overfitting?\n",
    "\n",
    "Bagging reduces overfitting by training base models on random subsets of data (with replacement) and averaging their predictions, lowering variance."
   ]
  },
  {
   "cell_type": "markdown",
   "id": "4b3bb28e-af38-43ba-9979-6affcbad985c",
   "metadata": {},
   "source": [
    "17. Why is Random Forest better than a single Decision Tree?\n",
    "\n",
    "Random Forest is better than a single Decision Tree because it reduces variance by averaging multiple trees' predictions, leading to more stable and accurate outcomes."
   ]
  },
  {
   "cell_type": "markdown",
   "id": "b5a8dda0-18d5-43ca-83be-8826ccf168a8",
   "metadata": {},
   "source": [
    "18. What is the role of bootstrap sampling in Bagging?\n",
    "\n",
    "Bootstrap sampling in Bagging creates multiple datasets by sampling with replacement, ensuring diversity in training data and reducing variance."
   ]
  },
  {
   "cell_type": "markdown",
   "id": "92b18a7d-95a2-4631-b8e0-6998f01e142e",
   "metadata": {},
   "source": [
    "19. What are some real-world applications of ensemble techniques?\n",
    "\n",
    "Real-world applications include fraud detection, stock price prediction, medical diagnosis, image classification, and recommendation systems."
   ]
  },
  {
   "cell_type": "markdown",
   "id": "cc49b58b-ba29-4c38-adba-f4d921cb6e81",
   "metadata": {},
   "source": [
    "20. What is the difference between Bagging and Boosting?\n",
    "\n",
    "Bagging reduces variance by training models independently in parallel, while Boosting reduces bias by training models sequentially, with each model correcting its predecessor's errors."
   ]
  },
  {
   "cell_type": "markdown",
   "id": "bdba2daf-6e55-4797-851d-21c9dd15b15a",
   "metadata": {},
   "source": [
    "# PRACTICAL"
   ]
  },
  {
   "cell_type": "markdown",
   "id": "4b48abf3-dd73-4965-9a3e-c9684c83e59b",
   "metadata": {},
   "source": [
    "## 21. Train a Bagging Classifier using Decision Trees on a sample dataset and print model accuracy"
   ]
  },
  {
   "cell_type": "code",
   "execution_count": 8,
   "id": "b8f82716-8ffa-4319-8f74-5757881b2bc7",
   "metadata": {},
   "outputs": [
    {
     "name": "stdout",
     "output_type": "stream",
     "text": [
      "Bagging Classifier Accuracy: 1.0\n"
     ]
    }
   ],
   "source": [
    "from sklearn.ensemble import BaggingClassifier\n",
    "from sklearn.tree import DecisionTreeClassifier\n",
    "from sklearn.datasets import load_iris\n",
    "from sklearn.model_selection import train_test_split\n",
    "from sklearn.metrics import accuracy_score\n",
    "\n",
    "data = load_iris()\n",
    "X_train, X_test, y_train, y_test = train_test_split(data.data, data.target, test_size=0.3, random_state=42)\n",
    "\n",
    "bagging_clf = BaggingClassifier(estimator=DecisionTreeClassifier(), n_estimators=50, random_state=42)\n",
    "bagging_clf.fit(X_train, y_train)\n",
    "\n",
    "y_pred = bagging_clf.predict(X_test)\n",
    "print(\"Bagging Classifier Accuracy:\", accuracy_score(y_test, y_pred))"
   ]
  },
  {
   "cell_type": "markdown",
   "id": "723c287c-cbcc-4bfd-873f-bd67ef1cdfd5",
   "metadata": {},
   "source": [
    "## 22. Train a Bagging Regressor using Decision Trees and evaluate using Mean Squared Error (MSE)"
   ]
  },
  {
   "cell_type": "code",
   "execution_count": 7,
   "id": "90d5bb59-d819-471e-b396-540f349f29c1",
   "metadata": {},
   "outputs": [
    {
     "name": "stdout",
     "output_type": "stream",
     "text": [
      "Bagging Regressor MSE: 2987.0073593984966\n"
     ]
    }
   ],
   "source": [
    "from sklearn.ensemble import BaggingRegressor\n",
    "from sklearn.tree import DecisionTreeRegressor\n",
    "from sklearn.datasets import load_diabetes\n",
    "from sklearn.metrics import mean_squared_error\n",
    "\n",
    "# Load dataset\n",
    "data = load_diabetes()\n",
    "X_train, X_test, y_train, y_test = train_test_split(data.data, data.target, test_size=0.3, random_state=42)\n",
    "\n",
    "# Train Bagging Regressor\n",
    "bagging_reg = BaggingRegressor(estimator=DecisionTreeRegressor(), n_estimators=50, random_state=42)\n",
    "bagging_reg.fit(X_train, y_train)\n",
    "\n",
    "# Predict and print MSE\n",
    "y_pred = bagging_reg.predict(X_test)\n",
    "print(\"Bagging Regressor MSE:\", mean_squared_error(y_test, y_pred))"
   ]
  },
  {
   "cell_type": "markdown",
   "id": "db525bab-a72a-43ae-b97a-9b1e7789b8e2",
   "metadata": {},
   "source": [
    "## 23. Train a Random Forest Classifier on the Breast Cancer dataset and print feature importance scores."
   ]
  },
  {
   "cell_type": "code",
   "execution_count": 3,
   "id": "8d0b8086-f658-4883-9986-62d4f5302053",
   "metadata": {},
   "outputs": [
    {
     "name": "stdout",
     "output_type": "stream",
     "text": [
      "Feature Importances: [0.03231189 0.0110639  0.06009233 0.05381045 0.00622336 0.00921566\n",
      " 0.08055702 0.14193444 0.00327807 0.00314028 0.01643496 0.00317191\n",
      " 0.01176976 0.02953842 0.00588079 0.00459638 0.0058159  0.00338232\n",
      " 0.00400077 0.00713457 0.07797475 0.01878567 0.07429212 0.11821686\n",
      " 0.01176917 0.01753909 0.04107958 0.12713638 0.01292945 0.00692376]\n"
     ]
    }
   ],
   "source": [
    "from sklearn.ensemble import RandomForestClassifier\n",
    "from sklearn.datasets import load_breast_cancer\n",
    "\n",
    "# Load dataset\n",
    "data = load_breast_cancer()\n",
    "X_train, X_test, y_train, y_test = train_test_split(data.data, data.target, test_size=0.3, random_state=42)\n",
    "\n",
    "# Train Random Forest Classifier\n",
    "rf_clf = RandomForestClassifier(n_estimators=100, random_state=42)\n",
    "rf_clf.fit(X_train, y_train)\n",
    "\n",
    "# Feature importances\n",
    "importances = rf_clf.feature_importances_\n",
    "print(\"Feature Importances:\", importances)"
   ]
  },
  {
   "cell_type": "markdown",
   "id": "cbfc2e53-771b-4bf1-8070-fabbddaf3308",
   "metadata": {},
   "source": [
    "## 24. Train a Random Forest Regressor and compare its performance with a single Decision Tree."
   ]
  },
  {
   "cell_type": "code",
   "execution_count": 9,
   "id": "99585248-8723-4846-859b-659301e335bc",
   "metadata": {},
   "outputs": [
    {
     "name": "stdout",
     "output_type": "stream",
     "text": [
      "Random Forest Regressor MSE: 0.00034000000000000057\n",
      "Decision Tree Regressor MSE: 0.0\n"
     ]
    }
   ],
   "source": [
    "from sklearn.ensemble import RandomForestRegressor\n",
    "from sklearn.tree import DecisionTreeRegressor\n",
    "\n",
    "# Train Random Forest Regressor\n",
    "rf_reg = RandomForestRegressor(n_estimators=100, random_state=42)\n",
    "rf_reg.fit(X_train, y_train)\n",
    "y_pred_rf = rf_reg.predict(X_test)\n",
    "\n",
    "# Train single Decision Tree Regressor\n",
    "dt_reg = DecisionTreeRegressor(random_state=42)\n",
    "dt_reg.fit(X_train, y_train)\n",
    "y_pred_dt = dt_reg.predict(X_test)\n",
    "\n",
    "# Compare MSE\n",
    "print(\"Random Forest Regressor MSE:\", mean_squared_error(y_test, y_pred_rf))\n",
    "print(\"Decision Tree Regressor MSE:\", mean_squared_error(y_test, y_pred_dt))"
   ]
  },
  {
   "cell_type": "markdown",
   "id": "a1a44147-d237-4e41-a1d2-161fded52c26",
   "metadata": {},
   "source": [
    "## 25. Compute the Out-of-Bag (OOB) Score for a Random Forest Classifier."
   ]
  },
  {
   "cell_type": "code",
   "execution_count": 4,
   "id": "496de41b-dbc3-437a-92e1-b03649e24b52",
   "metadata": {},
   "outputs": [
    {
     "name": "stdout",
     "output_type": "stream",
     "text": [
      "OOB Score: 0.9547738693467337\n"
     ]
    }
   ],
   "source": [
    "# Random Forest with OOB Score\n",
    "rf_clf_oob = RandomForestClassifier(n_estimators=100, oob_score=True, random_state=42)\n",
    "rf_clf_oob.fit(X_train, y_train)\n",
    "\n",
    "# Print OOB Score\n",
    "print(\"OOB Score:\", rf_clf_oob.oob_score_)"
   ]
  },
  {
   "cell_type": "markdown",
   "id": "9e643f2f-56f9-4619-a8fc-73661010cfbb",
   "metadata": {},
   "source": [
    "## 26. Train a Bagging Classifier using SVM as a base estimator and print accuracy."
   ]
  },
  {
   "cell_type": "code",
   "execution_count": 6,
   "id": "cbad07cf-49d1-42a3-bc56-ff20eeda6ded",
   "metadata": {},
   "outputs": [
    {
     "name": "stdout",
     "output_type": "stream",
     "text": [
      "Bagging Classifier with SVM Accuracy: 0.9473684210526315\n"
     ]
    }
   ],
   "source": [
    "from sklearn.svm import SVC\n",
    "\n",
    "# Bagging with SVM\n",
    "bagging_svm = BaggingClassifier(estimator=SVC(), n_estimators=50, random_state=42)\n",
    "bagging_svm.fit(X_train, y_train)\n",
    "\n",
    "# Accuracy\n",
    "y_pred = bagging_svm.predict(X_test)\n",
    "print(\"Bagging Classifier with SVM Accuracy:\", accuracy_score(y_test, y_pred))"
   ]
  },
  {
   "cell_type": "markdown",
   "id": "09304283-9b8d-471b-a042-f5a3eb0b35ad",
   "metadata": {},
   "source": [
    "## 27. Train a Random Forest Classifier with different numbers of trees and compare accuracy."
   ]
  },
  {
   "cell_type": "code",
   "execution_count": 10,
   "id": "9f8f4713-daa7-4fb7-b2af-f51f9ec2dc44",
   "metadata": {},
   "outputs": [
    {
     "name": "stdout",
     "output_type": "stream",
     "text": [
      "Accuracy with 10 trees: 1.0\n",
      "Accuracy with 50 trees: 1.0\n",
      "Accuracy with 100 trees: 1.0\n",
      "Accuracy with 200 trees: 1.0\n"
     ]
    }
   ],
   "source": [
    "# Compare Random Forest Classifiers with different tree counts\n",
    "for n_trees in [10, 50, 100, 200]:\n",
    "    rf_clf = RandomForestClassifier(n_estimators=n_trees, random_state=42)\n",
    "    rf_clf.fit(X_train, y_train)\n",
    "    y_pred = rf_clf.predict(X_test)\n",
    "    print(f\"Accuracy with {n_trees} trees:\", accuracy_score(y_test, y_pred))"
   ]
  },
  {
   "cell_type": "markdown",
   "id": "e843ee9e-7e0e-4ce8-95d4-c732708a7cb5",
   "metadata": {},
   "source": [
    "## 28. Train a Bagging Classifier using Logistic Regression as a base estimator and print AUC score."
   ]
  },
  {
   "cell_type": "code",
   "execution_count": null,
   "id": "d0f008d1-aa72-4621-b38e-a2d50a41deec",
   "metadata": {},
   "outputs": [],
   "source": [
    "# Import necessary libraries\n",
    "from sklearn.model_selection import train_test_split\n",
    "from sklearn.ensemble import BaggingClassifier\n",
    "from sklearn.linear_model import LogisticRegression\n",
    "from sklearn.metrics import roc_auc_score\n",
    "from sklearn.datasets import load_breast_cancer\n",
    "\n",
    "# Load a sample dataset (Breast Cancer dataset in this case)\n",
    "data = load_breast_cancer()\n",
    "X = data.data\n",
    "y = data.target\n",
    "\n",
    "# Split the dataset into training and testing sets\n",
    "X_train, X_test, y_train, y_test = train_test_split(X, y, test_size=0.3, random_state=42)\n",
    "\n",
    "# Initialize the Logistic Regression model as a base estimator for the Bagging Classifier\n",
    "base_estimator = LogisticRegression(max_iter=10000)\n",
    "\n",
    "# Initialize the Bagging Classifier with the Logistic Regression base estimator\n",
    "bagging_model = BaggingClassifier(estimator=base_estimator, n_estimators=50, random_state=42)\n",
    "\n",
    "# Train the Bagging Classifier on the training data\n",
    "bagging_model.fit(X_train, y_train)\n",
    "\n",
    "# Make predictions on the test set\n",
    "y_pred_prob = bagging_model.predict_proba(X_test)[:, 1]  # Get probabilities for the positive class\n",
    "\n",
    "# Calculate the AUC score\n",
    "auc_score = roc_auc_score(y_test, y_pred_prob)\n",
    "\n",
    "# Print the AUC score\n",
    "print(f\"AUC Score: {auc_score:.4f}\")"
   ]
  },
  {
   "cell_type": "markdown",
   "id": "c2f5d594-a052-4aff-b513-85cbe840ede8",
   "metadata": {},
   "source": [
    "## 29. Train a Random Forest Regressor and analyze feature importance scores."
   ]
  },
  {
   "cell_type": "code",
   "execution_count": null,
   "id": "80d3c030-d5cf-4e68-a054-04e45c9b3afb",
   "metadata": {},
   "outputs": [],
   "source": [
    "# Import necessary libraries\n",
    "from sklearn.ensemble import RandomForestRegressor\n",
    "from sklearn.model_selection import train_test_split\n",
    "from sklearn.datasets import load_boston\n",
    "import matplotlib.pyplot as plt\n",
    "import numpy as np\n",
    "\n",
    "# Load the dataset (Boston housing dataset as an example)\n",
    "data = load_boston()\n",
    "X = data.data\n",
    "y = data.target\n",
    "feature_names = data.feature_names\n",
    "\n",
    "# Split the data into training and testing sets\n",
    "X_train, X_test, y_train, y_test = train_test_split(X, y, test_size=0.2, random_state=42)\n",
    "\n",
    "# Initialize and train the Random Forest Regressor\n",
    "rf_regressor = RandomForestRegressor(n_estimators=100, random_state=42)\n",
    "rf_regressor.fit(X_train, y_train)\n",
    "\n",
    "# Get feature importance scores\n",
    "feature_importances = rf_regressor.feature_importances_\n",
    "\n",
    "# Sort feature importances in descending order\n",
    "sorted_idx = np.argsort(feature_importances)[::-1]\n",
    "\n",
    "# Plot the feature importance scores\n",
    "plt.figure(figsize=(10, 6))\n",
    "plt.barh(feature_names[sorted_idx], feature_importances[sorted_idx])\n",
    "plt.xlabel(\"Feature Importance Score\")\n",
    "plt.title(\"Feature Importance Analysis using Random Forest Regressor\")\n",
    "plt.gca().invert_yaxis()  # Invert y-axis to display the most important feature at the top\n",
    "plt.show()\n",
    "\n",
    "# Print the feature importances in descending order\n",
    "for idx in sorted_idx:\n",
    "    print(f\"{feature_names[idx]}: {feature_importances[idx]}\")"
   ]
  },
  {
   "cell_type": "markdown",
   "id": "c85526a0-42e4-4942-a014-8c9cca34f111",
   "metadata": {},
   "source": [
    "## 30. Train an ensemble model using both Bagging and Random Forest and compare accuracy."
   ]
  },
  {
   "cell_type": "code",
   "execution_count": 12,
   "id": "6c3d8ba9-54f6-4428-9e2d-175a6c8e5327",
   "metadata": {},
   "outputs": [
    {
     "name": "stdout",
     "output_type": "stream",
     "text": [
      "Bagging Classifier Accuracy: 1.0\n",
      "Random Forest Classifier Accuracy: 1.0\n"
     ]
    }
   ],
   "source": [
    "# Bagging Classifier\n",
    "bagging_clf = BaggingClassifier(estimator=DecisionTreeClassifier(), n_estimators=50, random_state=42)\n",
    "bagging_clf.fit(X_train, y_train)\n",
    "bagging_acc = accuracy_score(y_test, bagging_clf.predict(X_test))\n",
    "\n",
    "# Random Forest Classifier\n",
    "rf_clf = RandomForestClassifier(n_estimators=100, random_state=42)\n",
    "rf_clf.fit(X_train, y_train)\n",
    "rf_acc = accuracy_score(y_test, rf_clf.predict(X_test))\n",
    "\n",
    "print(\"Bagging Classifier Accuracy:\", bagging_acc)\n",
    "print(\"Random Forest Classifier Accuracy:\", rf_acc)"
   ]
  },
  {
   "cell_type": "markdown",
   "id": "8d82aed2-7cdf-4dd1-ba30-d852302ee960",
   "metadata": {},
   "source": [
    "## 31. Train a Random Forest Classifier and tune hyperparameters using GridSearchCV."
   ]
  },
  {
   "cell_type": "code",
   "execution_count": 29,
   "id": "3f046f6b-acda-470a-b11b-146b92daa03d",
   "metadata": {},
   "outputs": [
    {
     "name": "stdout",
     "output_type": "stream",
     "text": [
      "Fitting 5 folds for each of 216 candidates, totalling 1080 fits\n",
      "Best Hyperparameters: {'bootstrap': True, 'max_depth': None, 'min_samples_leaf': 2, 'min_samples_split': 2, 'n_estimators': 150}\n",
      "Accuracy on Test Set: 1.0\n"
     ]
    }
   ],
   "source": [
    "# Import necessary libraries\n",
    "from sklearn.ensemble import RandomForestClassifier\n",
    "from sklearn.model_selection import train_test_split, GridSearchCV\n",
    "from sklearn.datasets import load_iris\n",
    "from sklearn.metrics import accuracy_score\n",
    "\n",
    "# Load the dataset (Iris dataset as an example)\n",
    "data = load_iris()\n",
    "X = data.data\n",
    "y = data.target\n",
    "\n",
    "# Split the data into training and testing sets\n",
    "X_train, X_test, y_train, y_test = train_test_split(X, y, test_size=0.2, random_state=42)\n",
    "\n",
    "# Define the Random Forest Classifier\n",
    "rf = RandomForestClassifier(random_state=42)\n",
    "\n",
    "# Set up the hyperparameters grid to search\n",
    "param_grid = {\n",
    "    'n_estimators': [50, 100, 150],\n",
    "    'max_depth': [None, 10, 20, 30],\n",
    "    'min_samples_split': [2, 5, 10],\n",
    "    'min_samples_leaf': [1, 2, 4],\n",
    "    'bootstrap': [True, False]\n",
    "}\n",
    "\n",
    "# Set up GridSearchCV\n",
    "grid_search = GridSearchCV(estimator=rf, param_grid=param_grid, cv=5, n_jobs=-1, verbose=2)\n",
    "\n",
    "# Fit the GridSearchCV\n",
    "grid_search.fit(X_train, y_train)\n",
    "\n",
    "# Get the best parameters\n",
    "best_params = grid_search.best_params_\n",
    "\n",
    "print(f\"Best Hyperparameters: {best_params}\")\n",
    "\n",
    "# Get the best model\n",
    "best_rf_model = grid_search.best_estimator_\n",
    "\n",
    "# Make predictions\n",
    "y_pred = best_rf_model.predict(X_test)\n",
    "\n",
    "# Evaluate the model\n",
    "accuracy = accuracy_score(y_test, y_pred)\n",
    "print(f\"Accuracy on Test Set: {accuracy}\")"
   ]
  },
  {
   "cell_type": "markdown",
   "id": "d9a3f055-6432-4bdc-8223-b733989750d7",
   "metadata": {},
   "source": [
    "## 32. Train a Bagging Regressor with different numbers of base estimators and compare performance."
   ]
  },
  {
   "cell_type": "code",
   "execution_count": null,
   "id": "9c9ad956-78ff-41a4-9908-31aa2a6272dd",
   "metadata": {},
   "outputs": [],
   "source": [
    "# Import necessary libraries\n",
    "from sklearn.ensemble import BaggingRegressor\n",
    "from sklearn.tree import DecisionTreeRegressor\n",
    "from sklearn.model_selection import train_test_split\n",
    "from sklearn.metrics import mean_squared_error\n",
    "from sklearn.datasets import load_boston\n",
    "import numpy as np\n",
    "\n",
    "# Load the dataset (Boston housing dataset as an example)\n",
    "data = load_boston()\n",
    "X = data.data\n",
    "y = data.target\n",
    "\n",
    "# Split the data into training and testing sets\n",
    "X_train, X_test, y_train, y_test = train_test_split(X, y, test_size=0.2, random_state=42)\n",
    "\n",
    "# Different numbers of base estimators to try\n",
    "n_estimators_options = [10, 50, 100, 200, 500]\n",
    "\n",
    "# Store results\n",
    "results = []\n",
    "\n",
    "# Loop over different numbers of base estimators\n",
    "for n_estimators in n_estimators_options:\n",
    "    # Initialize Bagging Regressor with Decision Tree as the base estimator\n",
    "    bagging_regressor = BaggingRegressor(estimator=DecisionTreeRegressor(), n_estimators=n_estimators, random_state=42)\n",
    "    \n",
    "    # Train the model\n",
    "    bagging_regressor.fit(X_train, y_train)\n",
    "    \n",
    "    # Make predictions\n",
    "    y_pred = bagging_regressor.predict(X_test)\n",
    "    \n",
    "    # Calculate the Mean Squared Error (MSE)\n",
    "    mse = mean_squared_error(y_test, y_pred)\n",
    "    results.append((n_estimators, mse))\n",
    "\n",
    "# Print out the results\n",
    "for n_estimators, mse in results:\n",
    "    print(f\"Number of Estimators: {n_estimators}, Mean Squared Error: {mse}\")"
   ]
  },
  {
   "cell_type": "markdown",
   "id": "3598c890-5336-473e-b127-efe201955d05",
   "metadata": {},
   "source": [
    "## 33.  Train a Random Forest Classifier and analyze misclassified samples."
   ]
  },
  {
   "cell_type": "code",
   "execution_count": 28,
   "id": "3a902a23-1ef1-4f20-8b08-2a8d26f1032b",
   "metadata": {},
   "outputs": [
    {
     "name": "stdout",
     "output_type": "stream",
     "text": [
      "Accuracy of Random Forest Classifier: 0.8567\n",
      "\n",
      "Misclassified Samples:\n",
      "   Feature 0  Feature 1  Feature 2  Feature 3  Feature 4  Feature 5  \\\n",
      "0   2.890643   0.838689  -0.817095   0.252231   0.939029  -0.812271   \n",
      "1  -0.091845   0.010092  -0.942558  -0.736770  -0.322028   0.612722   \n",
      "2   0.078143   0.062600  -1.024029   1.190549  -0.964538   0.406785   \n",
      "3   0.460825   0.308706  -1.399682  -0.290454  -1.163043  -0.184855   \n",
      "4   2.212531  -0.216794   0.212740  -0.825654  -0.431126   0.925421   \n",
      "\n",
      "   Feature 6  Feature 7  Feature 8  Feature 9  ...  Feature 12  Feature 13  \\\n",
      "0   0.188670  -0.715338  -0.367863  -0.003358  ...    1.486159    1.548918   \n",
      "1   1.614779   0.585904   0.548320  -0.844941  ...    0.218534   -1.415267   \n",
      "2  -0.279810   2.165056   0.139060  -0.563947  ...    1.026986    0.212574   \n",
      "3  -0.249370   1.462255  -0.081067   0.284755  ...    1.428760    1.072542   \n",
      "4   0.782874   0.444774  -0.728077  -2.086478  ...    0.364140    0.149363   \n",
      "\n",
      "   Feature 14  Feature 15  Feature 16  Feature 17  Feature 18  Feature 19  \\\n",
      "0   -1.179530   -1.950078    0.703796    1.484521    0.663881    0.051359   \n",
      "1   -0.680131    1.009472   -0.087435   -1.499016   -0.195830    1.669070   \n",
      "2   -0.588072    1.105900    0.861636   -0.816217   -0.103489   -1.682659   \n",
      "3   -0.556254    1.434310    1.048400   -1.963289    0.206994   -2.219778   \n",
      "4   -0.460487    0.007178   -0.360039    0.160490   -0.405863    0.258661   \n",
      "\n",
      "   True Label  Predicted Label  \n",
      "0           1                0  \n",
      "1           0                1  \n",
      "2           0                1  \n",
      "3           1                0  \n",
      "4           0                1  \n",
      "\n",
      "[5 rows x 22 columns]\n"
     ]
    },
    {
     "data": {
      "image/png": "[encoded data removed]",
      "text/plain": [
       "<Figure size 800x600 with 1 Axes>"
      ]
     },
     "metadata": {},
     "output_type": "display_data"
    }
   ],
   "source": [
    "# Import necessary libraries\n",
    "import numpy as np\n",
    "import pandas as pd\n",
    "import matplotlib.pyplot as plt\n",
    "from sklearn.ensemble import RandomForestClassifier\n",
    "from sklearn.model_selection import train_test_split\n",
    "from sklearn.metrics import accuracy_score\n",
    "from sklearn.datasets import make_classification\n",
    "\n",
    "# Create a synthetic dataset\n",
    "X, y = make_classification(n_samples=1000, n_features=20, n_classes=2, random_state=42)\n",
    "\n",
    "# Split the dataset into training and testing sets\n",
    "X_train, X_test, y_train, y_test = train_test_split(X, y, test_size=0.3, random_state=42)\n",
    "\n",
    "# Train the Random Forest Classifier\n",
    "rf_clf = RandomForestClassifier(n_estimators=100, random_state=42)\n",
    "rf_clf.fit(X_train, y_train)\n",
    "\n",
    "# Predict the test set\n",
    "y_pred = rf_clf.predict(X_test)\n",
    "\n",
    "# Evaluate accuracy\n",
    "accuracy = accuracy_score(y_test, y_pred)\n",
    "print(f\"Accuracy of Random Forest Classifier: {accuracy:.4f}\")\n",
    "\n",
    "# Identify misclassified samples\n",
    "misclassified_indices = np.where(y_pred != y_test)[0]\n",
    "\n",
    "# Create a DataFrame for misclassified samples\n",
    "misclassified_samples = pd.DataFrame(X_test[misclassified_indices], columns=[f'Feature {i}' for i in range(X.shape[1])])\n",
    "misclassified_samples['True Label'] = y_test[misclassified_indices]\n",
    "misclassified_samples['Predicted Label'] = y_pred[misclassified_indices]\n",
    "\n",
    "# Display misclassified samples\n",
    "print(\"\\nMisclassified Samples:\")\n",
    "print(misclassified_samples.head())\n",
    "\n",
    "# Optionally, plot the first two features of misclassified samples\n",
    "plt.figure(figsize=(8, 6))\n",
    "plt.scatter(misclassified_samples['Feature 0'], misclassified_samples['Feature 1'], color='red', label='Misclassified')\n",
    "plt.xlabel('Feature 0')\n",
    "plt.ylabel('Feature 1')\n",
    "plt.title('Misclassified Samples (Feature 0 vs Feature 1)')\n",
    "plt.legend()\n",
    "plt.show()"
   ]
  },
  {
   "cell_type": "markdown",
   "id": "220ca742-5c52-4005-815f-d92f312098c5",
   "metadata": {},
   "source": [
    "## 34. Train a Bagging Classifier and compare its performance with a single Decision Tree Classifier."
   ]
  },
  {
   "cell_type": "code",
   "execution_count": 27,
   "id": "cceac3bd-431f-407a-920d-206ce832a1c5",
   "metadata": {},
   "outputs": [
    {
     "name": "stdout",
     "output_type": "stream",
     "text": [
      "Accuracy of Decision Tree: 0.8567\n",
      "Accuracy of Bagging Classifier: 0.8633\n"
     ]
    },
    {
     "data": {
      "image/png": "[encoded data removed]",
      "text/plain": [
       "<Figure size 600x400 with 1 Axes>"
      ]
     },
     "metadata": {},
     "output_type": "display_data"
    }
   ],
   "source": [
    "# Import necessary libraries\n",
    "import numpy as np\n",
    "import matplotlib.pyplot as plt\n",
    "from sklearn.model_selection import train_test_split\n",
    "from sklearn.tree import DecisionTreeClassifier\n",
    "from sklearn.ensemble import BaggingClassifier\n",
    "from sklearn.metrics import accuracy_score\n",
    "from sklearn.datasets import make_classification\n",
    "\n",
    "# Create a synthetic dataset\n",
    "X, y = make_classification(n_samples=1000, n_features=20, n_classes=2, random_state=42)\n",
    "\n",
    "# Split the dataset into training and testing sets\n",
    "X_train, X_test, y_train, y_test = train_test_split(X, y, test_size=0.3, random_state=42)\n",
    "\n",
    "# Train a single Decision Tree Classifier\n",
    "dt_clf = DecisionTreeClassifier(random_state=42)\n",
    "dt_clf.fit(X_train, y_train)\n",
    "\n",
    "# Predict and evaluate the Decision Tree Classifier\n",
    "dt_y_pred = dt_clf.predict(X_test)\n",
    "dt_accuracy = accuracy_score(y_test, dt_y_pred)\n",
    "\n",
    "# Train a Bagging Classifier using a Decision Tree as base estimator\n",
    "bagging_clf = BaggingClassifier(estimator=DecisionTreeClassifier(random_state=42), n_estimators=100, random_state=42)\n",
    "bagging_clf.fit(X_train, y_train)\n",
    "\n",
    "# Predict and evaluate the Bagging Classifier\n",
    "bagging_y_pred = bagging_clf.predict(X_test)\n",
    "bagging_accuracy = accuracy_score(y_test, bagging_y_pred)\n",
    "\n",
    "# Print accuracy comparison\n",
    "print(f\"Accuracy of Decision Tree: {dt_accuracy:.4f}\")\n",
    "print(f\"Accuracy of Bagging Classifier: {bagging_accuracy:.4f}\")\n",
    "\n",
    "# Plot a bar chart for comparison\n",
    "plt.figure(figsize=(6, 4))\n",
    "models = ['Decision Tree', 'Bagging Classifier']\n",
    "accuracies = [dt_accuracy, bagging_accuracy]\n",
    "plt.bar(models, accuracies, color=['blue', 'green'])\n",
    "plt.ylabel('Accuracy')\n",
    "plt.title('Performance Comparison: Decision Tree vs Bagging Classifier')\n",
    "plt.ylim([0, 1])\n",
    "plt.show()"
   ]
  },
  {
   "cell_type": "markdown",
   "id": "9480a95a-d699-4be6-9dc4-55c34b628392",
   "metadata": {},
   "source": [
    "## 35 Train a Random Forest Classifier and visualize the confusion matrix."
   ]
  },
  {
   "cell_type": "code",
   "execution_count": 13,
   "id": "5271e69e-be2b-4ce8-a79c-caaadd93696e",
   "metadata": {},
   "outputs": [
    {
     "data": {
      "image/png": "[encoded data removed]",
      "text/plain": [
       "<Figure size 640x480 with 2 Axes>"
      ]
     },
     "metadata": {},
     "output_type": "display_data"
    }
   ],
   "source": [
    "import matplotlib.pyplot as plt\n",
    "from sklearn.metrics import ConfusionMatrixDisplay\n",
    "\n",
    "# Train Random Forest Classifier\n",
    "rf_clf = RandomForestClassifier(n_estimators=100, random_state=42)\n",
    "rf_clf.fit(X_train, y_train)\n",
    "\n",
    "# Confusion Matrix\n",
    "ConfusionMatrixDisplay.from_estimator(rf_clf, X_test, y_test)\n",
    "plt.title(\"Confusion Matrix - Random Forest Classifier\")\n",
    "plt.show()"
   ]
  },
  {
   "cell_type": "markdown",
   "id": "eecb0d39-895e-47de-b22e-8d06cc09c562",
   "metadata": {},
   "source": [
    "## 36. Train a Stacking Classifier using Decision Trees, SVM, and Logistic Regression, and compare accuracy."
   ]
  },
  {
   "cell_type": "code",
   "execution_count": 14,
   "id": "78859e4b-9145-4174-a98a-3cf9427bcd74",
   "metadata": {},
   "outputs": [
    {
     "name": "stdout",
     "output_type": "stream",
     "text": [
      "Stacking Classifier Accuracy: 1.0\n"
     ]
    }
   ],
   "source": [
    "from sklearn.ensemble import StackingClassifier\n",
    "from sklearn.svm import SVC\n",
    "\n",
    "# Define base estimators\n",
    "base_estimators = [\n",
    "    ('dt', DecisionTreeClassifier()),\n",
    "    ('svm', SVC(probability=True)),\n",
    "    ('lr', LogisticRegression())\n",
    "]\n",
    "\n",
    "# Stacking Classifier\n",
    "stack_clf = StackingClassifier(estimators=base_estimators, final_estimator=LogisticRegression())\n",
    "stack_clf.fit(X_train, y_train)\n",
    "print(\"Stacking Classifier Accuracy:\", accuracy_score(y_test, stack_clf.predict(X_test)))"
   ]
  },
  {
   "cell_type": "markdown",
   "id": "fbc0a8ed-11bf-4f91-8564-964f5f7cbda4",
   "metadata": {},
   "source": [
    "## 37. Train a Random Forest Classifier and print the top 5 most important features."
   ]
  },
  {
   "cell_type": "code",
   "execution_count": 25,
   "id": "3c00d634-001f-4b61-96df-96b5b39f5d9b",
   "metadata": {},
   "outputs": [
    {
     "name": "stdout",
     "output_type": "stream",
     "text": [
      "Top 5 most important features:\n",
      "Feature 5 - Importance: 0.3376\n",
      "Feature 18 - Importance: 0.2110\n",
      "Feature 1 - Importance: 0.1057\n",
      "Feature 14 - Importance: 0.0721\n",
      "Feature 11 - Importance: 0.0249\n"
     ]
    }
   ],
   "source": [
    "# Import necessary libraries\n",
    "import numpy as np\n",
    "import pandas as pd\n",
    "from sklearn.ensemble import RandomForestClassifier\n",
    "from sklearn.model_selection import train_test_split\n",
    "from sklearn.datasets import make_classification\n",
    "\n",
    "# Create a synthetic dataset\n",
    "X, y = make_classification(n_samples=1000, n_features=20, n_classes=2, random_state=42)\n",
    "\n",
    "# Split the dataset into training and testing sets\n",
    "X_train, X_test, y_train, y_test = train_test_split(X, y, test_size=0.3, random_state=42)\n",
    "\n",
    "# Train the Random Forest Classifier\n",
    "rf_clf = RandomForestClassifier(n_estimators=100, random_state=42)\n",
    "rf_clf.fit(X_train, y_train)\n",
    "\n",
    "# Get feature importances\n",
    "importances = rf_clf.feature_importances_\n",
    "\n",
    "# Sort the feature importances in descending order\n",
    "indices = np.argsort(importances)[::-1]\n",
    "\n",
    "# Print the top 5 most important features\n",
    "print(\"Top 5 most important features:\")\n",
    "for i in range(5):\n",
    "    print(f\"Feature {indices[i]} - Importance: {importances[indices[i]]:.4f}\")"
   ]
  },
  {
   "cell_type": "markdown",
   "id": "43b7b57b-3b93-47d2-8692-e75994d3f32d",
   "metadata": {},
   "source": [
    "## 38. Train a Bagging Classifier and evaluate performance using Precision, Recall, and F1-score."
   ]
  },
  {
   "cell_type": "code",
   "execution_count": 15,
   "id": "abd66dd0-7815-4774-925d-bb5a4d775bf8",
   "metadata": {},
   "outputs": [
    {
     "name": "stdout",
     "output_type": "stream",
     "text": [
      "Precision: 1.0\n",
      "Recall: 1.0\n",
      "F1 Score: 1.0\n"
     ]
    }
   ],
   "source": [
    "from sklearn.metrics import precision_score, recall_score, f1_score\n",
    "\n",
    "# Predictions\n",
    "y_pred = bagging_clf.predict(X_test)\n",
    "\n",
    "# Metrics\n",
    "print(\"Precision:\", precision_score(y_test, y_pred, average='macro'))\n",
    "print(\"Recall:\", recall_score(y_test, y_pred, average='macro'))\n",
    "print(\"F1 Score:\", f1_score(y_test, y_pred, average='macro'))"
   ]
  },
  {
   "cell_type": "markdown",
   "id": "a579b946-b89a-4772-b43c-6bb096d40da4",
   "metadata": {},
   "source": [
    "## 39. Train a Random Forest Classifier and analyze the effect of max_depth on accuracy."
   ]
  },
  {
   "cell_type": "code",
   "execution_count": 16,
   "id": "b2ce0395-14f6-40d3-b698-328b41d9422e",
   "metadata": {},
   "outputs": [
    {
     "name": "stdout",
     "output_type": "stream",
     "text": [
      "Max Depth 3 -> Accuracy: 1.0\n",
      "Max Depth 5 -> Accuracy: 1.0\n",
      "Max Depth 10 -> Accuracy: 1.0\n",
      "Max Depth 20 -> Accuracy: 1.0\n"
     ]
    }
   ],
   "source": [
    "# Evaluate Random Forest with different max_depth values\n",
    "for depth in [3, 5, 10, 20]:\n",
    "    rf_clf = RandomForestClassifier(n_estimators=100, max_depth=depth, random_state=42)\n",
    "    rf_clf.fit(X_train, y_train)\n",
    "    acc = accuracy_score(y_test, rf_clf.predict(X_test))\n",
    "    print(f\"Max Depth {depth} -> Accuracy: {acc}\")"
   ]
  },
  {
   "cell_type": "markdown",
   "id": "09d78902-8bef-45b4-8759-8a9a53dd71a2",
   "metadata": {},
   "source": [
    "## 40. Train a Bagging Regressor using different base estimators (DecisionTree and KNeighbors) and compare performance"
   ]
  },
  {
   "cell_type": "code",
   "execution_count": 17,
   "id": "c37c059a-b9d0-4590-b193-b7ca228ecab5",
   "metadata": {},
   "outputs": [
    {
     "name": "stdout",
     "output_type": "stream",
     "text": [
      "Bagging Regressor (Decision Tree) MSE: 0.0005511111111111121\n",
      "Bagging Regressor (KNeighbors) MSE: 0.008514133333333377\n"
     ]
    }
   ],
   "source": [
    "from sklearn.neighbors import KNeighborsRegressor\n",
    "\n",
    "# Bagging with DecisionTree\n",
    "bagging_dt = BaggingRegressor(estimator=DecisionTreeRegressor(), n_estimators=50, random_state=42)\n",
    "bagging_dt.fit(X_train, y_train)\n",
    "print(\"Bagging Regressor (Decision Tree) MSE:\", mean_squared_error(y_test, bagging_dt.predict(X_test)))\n",
    "\n",
    "# Bagging with KNeighbors\n",
    "bagging_knn = BaggingRegressor(estimator=KNeighborsRegressor(), n_estimators=50, random_state=42)\n",
    "bagging_knn.fit(X_train, y_train)\n",
    "print(\"Bagging Regressor (KNeighbors) MSE:\", mean_squared_error(y_test, bagging_knn.predict(X_test)))"
   ]
  },
  {
   "cell_type": "markdown",
   "id": "e4b6cacc-68f2-47e0-9138-3801a49d4192",
   "metadata": {},
   "source": [
    "## 41. Train a Random Forest Classifier and evaluate its performance using ROC-AUC Score."
   ]
  },
  {
   "cell_type": "code",
   "execution_count": 23,
   "id": "be9b772a-5fc0-4682-944c-6ee1d38e6cee",
   "metadata": {},
   "outputs": [
    {
     "name": "stdout",
     "output_type": "stream",
     "text": [
      "Random Forest Classifier ROC-AUC Score: 1.0\n"
     ]
    }
   ],
   "source": [
    "from sklearn.metrics import roc_auc_score\n",
    "from sklearn.preprocessing import label_binarize\n",
    "\n",
    "# Binarize the labels for multi-class ROC-AUC\n",
    "y_test_binarized = label_binarize(y_test, classes=[0, 1, 2])\n",
    "y_prob_rf = rf_clf.predict_proba(X_test)\n",
    "\n",
    "# Compute the multi-class ROC-AUC score using 'ovr' strategy\n",
    "print(\"Random Forest Classifier ROC-AUC Score:\", roc_auc_score(y_test_binarized, y_prob_rf, multi_class='ovr'))"
   ]
  },
  {
   "cell_type": "markdown",
   "id": "fec46dec-5a5d-4be8-bb22-fd6cb610bc17",
   "metadata": {},
   "source": [
    "## 42. Train a Bagging Classifier and evaluate its performance using cross-validation."
   ]
  },
  {
   "cell_type": "code",
   "execution_count": 19,
   "id": "542a9bb4-95a6-41e0-8bef-759733486b2b",
   "metadata": {},
   "outputs": [
    {
     "name": "stdout",
     "output_type": "stream",
     "text": [
      "Cross-Validation Scores: [0.95238095 0.9047619  0.9047619  1.         0.95238095]\n",
      "Mean CV Score: 0.9428571428571428\n"
     ]
    }
   ],
   "source": [
    "from sklearn.model_selection import cross_val_score\n",
    "\n",
    "# Cross-validation\n",
    "cv_scores = cross_val_score(bagging_clf, X_train, y_train, cv=5)\n",
    "print(\"Cross-Validation Scores:\", cv_scores)\n",
    "print(\"Mean CV Score:\", cv_scores.mean())"
   ]
  },
  {
   "cell_type": "markdown",
   "id": "48bbd18b-526b-45bf-852c-e0aec8244c0f",
   "metadata": {},
   "source": [
    "## 43. Train a Random Forest Classifier and plot the Precision-Recall curve."
   ]
  },
  {
   "cell_type": "code",
   "execution_count": 24,
   "id": "b0d67877-3001-4934-a479-fe04748726ae",
   "metadata": {},
   "outputs": [
    {
     "name": "stderr",
     "output_type": "stream",
     "text": [
      "C:\\Users\\rgukt\\AppData\\Local\\Temp\\ipykernel_6772\\2918884529.py:27: DeprecationWarning: `trapz` is deprecated. Use `trapezoid` instead, or one of the numerical integration functions in `scipy.integrate`.\n",
      "  plt.plot(recall, precision, color='b', label='Random Forest (AUC = %.2f)' % (np.trapz(precision, recall)))\n"
     ]
    },
    {
     "data": {
      "image/png": "[encoded data removed]",
      "text/plain": [
       "<Figure size 800x600 with 1 Axes>"
      ]
     },
     "metadata": {},
     "output_type": "display_data"
    }
   ],
   "source": [
    "# Import necessary libraries\n",
    "import numpy as np\n",
    "import matplotlib.pyplot as plt\n",
    "from sklearn.ensemble import RandomForestClassifier\n",
    "from sklearn.model_selection import train_test_split\n",
    "from sklearn.metrics import precision_recall_curve\n",
    "from sklearn.datasets import make_classification\n",
    "\n",
    "# Create a synthetic dataset\n",
    "X, y = make_classification(n_samples=1000, n_features=20, n_classes=2, random_state=42)\n",
    "\n",
    "# Split the dataset into training and testing sets\n",
    "X_train, X_test, y_train, y_test = train_test_split(X, y, test_size=0.3, random_state=42)\n",
    "\n",
    "# Train the Random Forest Classifier\n",
    "rf_clf = RandomForestClassifier(n_estimators=100, random_state=42)\n",
    "rf_clf.fit(X_train, y_train)\n",
    "\n",
    "# Predict probabilities for the positive class\n",
    "y_scores = rf_clf.predict_proba(X_test)[:, 1]\n",
    "\n",
    "# Calculate Precision-Recall curve\n",
    "precision, recall, _ = precision_recall_curve(y_test, y_scores)\n",
    "\n",
    "# Plot Precision-Recall curve\n",
    "plt.figure(figsize=(8, 6))\n",
    "plt.plot(recall, precision, color='b', label='Random Forest (AUC = %.2f)' % (np.trapz(precision, recall)))\n",
    "plt.xlabel('Recall')\n",
    "plt.ylabel('Precision')\n",
    "plt.title('Precision-Recall Curve')\n",
    "plt.legend(loc='best')\n",
    "plt.grid(True)\n",
    "plt.show()"
   ]
  },
  {
   "cell_type": "markdown",
   "id": "9fdc20e9-f435-400a-995f-315c25d0dc6c",
   "metadata": {},
   "source": [
    "## 44. Train a Stacking Classifier with Random Forest and Logistic Regression and compare accuracy."
   ]
  },
  {
   "cell_type": "code",
   "execution_count": 21,
   "id": "fd42489a-efd9-4ff6-8b67-63e5ce58eed9",
   "metadata": {},
   "outputs": [
    {
     "name": "stdout",
     "output_type": "stream",
     "text": [
      "Stacking Classifier Accuracy: 1.0\n"
     ]
    }
   ],
   "source": [
    "# Stacking with RandomForest and LogisticRegression\n",
    "stack_clf = StackingClassifier(\n",
    "    estimators=[('rf', RandomForestClassifier(n_estimators=100, random_state=42)),\n",
    "                 ('lr', LogisticRegression())],\n",
    "    final_estimator=LogisticRegression()\n",
    ")\n",
    "stack_clf.fit(X_train, y_train)\n",
    "print(\"Stacking Classifier Accuracy:\", accuracy_score(y_test, stack_clf.predict(X_test)))"
   ]
  },
  {
   "cell_type": "markdown",
   "id": "37549421-1030-4c02-be3e-82c287bf2c9b",
   "metadata": {},
   "source": [
    "## 45. Train a Bagging Regressor with different levels of bootstrap samples and compare performance."
   ]
  },
  {
   "cell_type": "code",
   "execution_count": 22,
   "id": "c7e5bbe7-53cd-40f5-9030-6ce1e16a6bbf",
   "metadata": {},
   "outputs": [
    {
     "name": "stdout",
     "output_type": "stream",
     "text": [
      "Bootstrap sample size 50% -> MSE: 0.0017866666666666667\n",
      "Bootstrap sample size 70% -> MSE: 0.001253333333333334\n",
      "Bootstrap sample size 100% -> MSE: 0.0005511111111111121\n"
     ]
    }
   ],
   "source": [
    "# Compare Bagging Regressor with different bootstrap sizes\n",
    "for n_samples in [0.5, 0.7, 1.0]:\n",
    "    bagging_reg = BaggingRegressor(estimator=DecisionTreeRegressor(), n_estimators=50,\n",
    "                                   max_samples=n_samples, random_state=42)\n",
    "    bagging_reg.fit(X_train, y_train)\n",
    "    mse = mean_squared_error(y_test, bagging_reg.predict(X_test))\n",
    "    print(f\"Bootstrap sample size {n_samples * 100:.0f}% -> MSE: {mse}\")"
   ]
  }
 ],
 "metadata": {
  "kernelspec": {
   "display_name": "Python 3 (ipykernel)",
   "language": "python",
   "name": "python3"
  },
  "language_info": {
   "codemirror_mode": {
    "name": "ipython",
    "version": 3
   },
   "file_extension": ".py",
   "mimetype": "text/x-python",
   "name": "python",
   "nbconvert_exporter": "python",
   "pygments_lexer": "ipython3",
   "version": "3.13.1"
  }
 },
 "nbformat": 4,
 "nbformat_minor": 5
}
