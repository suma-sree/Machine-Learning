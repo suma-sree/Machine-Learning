{
 "cells": [
  {
   "cell_type": "markdown",
   "id": "6c00a5ec-3146-41b2-9285-536d09c7d644",
   "metadata": {},
   "source": [
    "Theoretical Assignment\n\n",
    "Decision Trees\n\n",
    "1)What is a Decision Tree, and how does it work?\n\n",
    "A Decision Tree is a machine learning algorithm used for\n",
    "classification and regression tasks. It works by breaking down a dataset\n",
    "into smaller subsets based on feature conditions, forming a tree-like\n",
    "structure. Each internal node represents a decision based on a feature,\n",
    "each branch represents an outcome, and each leaf node represents a\n",
    "final prediction.\n\n\n",
    "2) What are impurity measures in Decision Trees?\n\n",
    "Impurity measures are mathematical ways to determine how mixed\n",
    "the classes are in a node. If all samples in a node belong to the same\n",
    "class, the impurity is low; if they are mixed, the impurity is high. The two\n",
    "common impurity measures are:\n\n",
    "• Gini Impurity\n\n",
    "• Entropy\n\n",
    "3)What is the mathematical formula for Gini Impurity?\n\n",
    "Gini Impurity measures how often a randomly chosen element\n",
    "would be incorrectly classified if it were randomly labeled according to\n",
    "the distribution of labels.\n\n",
    "Gini impurity is calculated as,\n\n",
    "1 minus the sum of the squared probabilities of each class in a\n",
    "node.\n\n\n",
    "4)What is the mathematical formula for Entropy?\n\n",
    "Entropy measures the level of uncertainty or randomness in a dataset.\n",
    "Entropy is calculated as,\n",
    "the negative sum of the probability of each class multiplied by the\n",
    "logarithm of that probability.\n\n\n",
    "5)What is Information Gain, and how is it used in Decision Trees?\n\n",
    "Information Gain measures the reduction in entropy after a dataset\n",
    "is split based on a feature. It is used in Decision Trees to select the best\n",
    "feature for splitting a node. A feature with higher Information Gain is\n",
    "chosen because it creates purer (less mixed) child nodes.\n\n\n",
    "6)What is the difference between Gini Impurity and Entropy?\n\n",
    "• Gini Impurity measures how often a randomly chosen item would\n",
    "be misclassified.\n\n",
    "• Entropy measures the level of uncertainty in a dataset.\n\n",
    "• Entropy uses logarithms, making it computationally more\n",
    "expensive than Gini Impurity.\n\n",
    "• Both are used for splitting nodes in a Decision Tree, but Gini is\n",
    "often preferred due to its simplicity.\n\n\n",
    "7)What is the mathematical explanation behind Decision Trees?\n\n",
    "A Decision Tree splits data recursively using impurity measures\n",
    "(Gini or Entropy) and selects the feature with the best split using\n",
    "Information Gain. The process continues until stopping criteria are met\n",
    "(e.g., maximum depth, minimum samples per leaf).\n\n\n",
    "8)What is Pre-Pruning in Decision Trees?\n\n",
    "Pre-pruning stops the tree from growing by setting constraints such\n",
    "as maximum depth, minimum samples per leaf, or minimum information\n",
    "gain. It prevents overfitting by stopping growth before the tree becomes\n",
    "too complex.\n\n\n",
    "9)What is Post-Pruning in Decision Trees?\n\n",
    "Post-pruning first allows the tree to grow fully, then removes\n",
    "branches that do not improve performance. This is done by pruning back\n",
    "branches based on validation data to reduce overfitting.\n\n\n",
    "10)What is the difference between Pre-Pruning and Post-Pruning?\n\n",
    "• Pre-pruning stops tree growth early using predefined limits.\n",
    "• Post-pruning removes unnecessary branches after the tree has\n",
    "grown.\n\n",
    "• Pre-pruning prevents complexity, while post-pruning corrects overcomplex trees.\n\n",
    "11) What is a Decision Tree Regressor?\n\n",
    "A Decision Tree Regressor predicts numerical values instead of\n",
    "categories. Instead of using impurity measures like Gini or Entropy, it\n",
    "minimizes the variance within each split.\n\n\n",
    "12) What are the advantages and disadvantages of Decision Trees?\n\n",
    "Advantages:\n\n",
    "• Easy to understand and interpret.\n\n",
    "• Requires little data preprocessing.\n\n",
    "• Works well for both classification and regression.\n\n",
    "• Can capture non-linear relationships.\n\n",
    "Disadvantages:\n\n",
    "• Prone to overfitting if not pruned.\n\n",
    "• Sensitive to small changes in data.\n\n",
    "• Can be biased toward dominant classes in imbalanced datasets.\n\n\n",
    "13) How does a Decision Tree handle missing values?\n\n",
    "• It can ignore missing values while selecting splits.\n\n",
    "• It can use surrogate splits (alternative features when primary\n",
    "features are missing).\n\n",
    "• It can impute missing values (e.g., replacing them with the most\n",
    "common value).\n\n\n",
    "14) How does a Decision Tree handle categorical features?\n\n",
    "• Converts categorical features into numerical values (e.g., one-hot\n",
    "encoding or label encoding).\n\n",
    "• Can split directly based on categories if the algorithm supports it.\n",
    "15) What are some real-world applications of Decision Trees?\n\n",
    "• Medical diagnosis (e.g., identifying diseases based on symptoms).\n\n",
    "• Fraud detection (e.g., classifying transactions as fraudulent or not).\n\n",
    "• Customer segmentation (e.g., classifying customers based on\n",
    "behavior).\n\n",
    "• Loan approval (e.g., deciding whether to approve a loan).\n\n",
    "• Predicting product recommendations based on user preferences.\n"
   ]
  },
  {
   "cell_type": "code",
   "execution_count": 1,
   "id": "9040cfce-9a0f-4fb0-af90-b446f9e6ec87",
   "metadata": {},
   "outputs": [
    {
     "name": "stdout",
     "output_type": "stream",
     "text": [
      "Decision Tree Classifier Accuracy: 1.00\n"
     ]
    }
   ],
   "source": [
    "#16) Write a Python program to train a Decision Tree Classifier on the Iris dataset and print the model accuracy\n",
    "from sklearn.datasets import load_iris\n",
    "from sklearn.tree import DecisionTreeClassifier\n",
    "from sklearn.model_selection import train_test_split\n",
    "from sklearn.metrics import accuracy_score\n",
    "\n",
    "iris = load_iris()\n",
    "X = iris.data\n",
    "y = iris.target\n",
    "\n",
    "X_train, X_test, y_train, y_test = train_test_split(X, y, test_size=0.2, random_state=42)\n",
    "\n",
    "clf = DecisionTreeClassifier(random_state=42)\n",
    "clf.fit(X_train, y_train)\n",
    "\n",
    "y_pred = clf.predict(X_test)\n",
    "\n",
    "accuracy = accuracy_score(y_test, y_pred)\n",
    "print(f\"Decision Tree Classifier Accuracy: {accuracy:.2f}\")\n"
   ]
  },
  {
   "cell_type": "code",
   "execution_count": 2,
   "id": "6f600e37-40c4-4b08-97b5-86e08e400f1b",
   "metadata": {},
   "outputs": [
    {
     "name": "stdout",
     "output_type": "stream",
     "text": [
      "sepal length (cm): 0.0133\n",
      "sepal width (cm): 0.0000\n",
      "petal length (cm): 0.5641\n",
      "petal width (cm): 0.4226\n"
     ]
    }
   ],
   "source": [
    "\n",
    "#17)Write a Python program to train a Decision Tree Classifier using Gini Impurity as the criterion and print the\n",
    "#feature importances\n",
    "from sklearn.datasets import load_iris\n",
    "from sklearn.tree import DecisionTreeClassifier\n",
    "\n",
    "iris = load_iris()\n",
    "X = iris.data\n",
    "y = iris.target\n",
    "\n",
    "clf = DecisionTreeClassifier(criterion='gini', random_state=42)\n",
    "clf.fit(X, y)\n",
    "\n",
    "importances = clf.feature_importances_\n",
    "for feature, importance in zip(iris.feature_names, importances):\n",
    "    print(f\"{feature}: {importance:.4f}\")\n",
    "\n"
   ]
  },
  {
   "cell_type": "code",
   "execution_count": 3,
   "id": "42b5f99f-4c8a-4433-a111-b811e35052dc",
   "metadata": {},
   "outputs": [
    {
     "name": "stdout",
     "output_type": "stream",
     "text": [
      "Decision Tree Classifier Accuracy (Entropy): 1.00\n"
     ]
    }
   ],
   "source": [
    "#18)Write a Python program to train a Decision Tree Classifier using Entropy as the splitting criterion and print the\n",
    "#model accuracy\n",
    "from sklearn.datasets import load_iris\n",
    "from sklearn.tree import DecisionTreeClassifier\n",
    "from sklearn.model_selection import train_test_split\n",
    "from sklearn.metrics import accuracy_score\n",
    "\n",
    "iris = load_iris()\n",
    "X = iris.data\n",
    "y = iris.target\n",
    "\n",
    "X_train, X_test, y_train, y_test = train_test_split(X, y, test_size=0.2, random_state=42)\n",
    "\n",
    "clf = DecisionTreeClassifier(criterion='entropy', random_state=42)\n",
    "clf.fit(X_train, y_train)\n",
    "\n",
    "y_pred = clf.predict(X_test)\n",
    "\n",
    "accuracy = accuracy_score(y_test, y_pred)\n",
    "print(f\"Decision Tree Classifier Accuracy (Entropy): {accuracy:.2f}\")\n"
   ]
  },
  {
   "cell_type": "code",
   "execution_count": 4,
   "id": "6dd4bac5-19ff-472f-bc3b-bc043edcbfee",
   "metadata": {},
   "outputs": [
    {
     "name": "stdout",
     "output_type": "stream",
     "text": [
      "Mean Squared Error: 0.50\n"
     ]
    }
   ],
   "source": [
    "#19)Write a Python program to train a Decision Tree Regressor on a housing dataset and evaluate using Mean\n",
    "#Squared Error (MSE)\n",
    "from sklearn.datasets import fetch_california_housing\n",
    "from sklearn.tree import DecisionTreeRegressor\n",
    "from sklearn.model_selection import train_test_split\n",
    "from sklearn.metrics import mean_squared_error\n",
    "\n",
    "data = fetch_california_housing()\n",
    "X = data.data\n",
    "y = data.target\n",
    "\n",
    "X_train, X_test, y_train, y_test = train_test_split(X, y, test_size=0.2, random_state=42)\n",
    "\n",
    "regressor = DecisionTreeRegressor(random_state=42)\n",
    "regressor.fit(X_train, y_train)\n",
    "\n",
    "y_pred = regressor.predict(X_test)\n",
    "\n",
    "mse = mean_squared_error(y_test, y_pred)\n",
    "print(f\"Mean Squared Error: {mse:.2f}\")\n"
   ]
  },
  {
   "cell_type": "code",
   "execution_count": 7,
   "id": "d80c89b0-a75e-491c-af51-cc77c34c3a3c",
   "metadata": {},
   "outputs": [],
   "source": [
    "#20) Write a Python program to train a Decision Tree Classifier and visualize the tree using graphviz\n",
    "\n",
    "from sklearn.datasets import load_iris\n",
    "from sklearn.tree import DecisionTreeClassifier, export_graphviz\n",
    "import graphviz\n",
    "\n",
    "iris = load_iris()\n",
    "X = iris.data\n",
    "y = iris.target\n",
    "\n",
    "clf = DecisionTreeClassifier(random_state=42)\n",
    "clf.fit(X, y)\n",
    "\n",
    "dot_data = export_graphviz(\n",
    "    clf,\n",
    "    out_file=None,\n",
    "    feature_names=iris.feature_names,\n",
    "    class_names=iris.target_names,\n",
    "    filled=True,\n",
    "    rounded=True,\n",
    "    special_characters=True\n",
    ")\n",
    "\n",
    "graph = graphviz.Source(dot_data)\n",
    "graph.render(\"decision_tree\")  \n",
    "graph.view()\n"
   ]
  },
  {
   "cell_type": "code",
   "execution_count": 8,
   "id": "1682861c-4429-4a30-ae2d-8c178f40e835",
   "metadata": {},
   "outputs": [
    {
     "name": "stdout",
     "output_type": "stream",
     "text": [
      "Accuracy (max_depth=3): 1.00\n",
      "Accuracy (fully grown tree): 1.00\n"
     ]
    }
   ],
   "source": [
    "#21) Write a Python program to train a Decision Tree Classifier with a maximum depth of 3 and compare its\n",
    "#accuracy with a fully grown tree\n",
    "\n",
    "\n",
    "from sklearn.datasets import load_iris\n",
    "from sklearn.tree import DecisionTreeClassifier\n",
    "from sklearn.model_selection import train_test_split\n",
    "from sklearn.metrics import accuracy_score\n",
    "\n",
    "iris = load_iris()\n",
    "X = iris.data\n",
    "y = iris.target\n",
    "\n",
    "X_train, X_test, y_train, y_test = train_test_split(X, y, test_size=0.2, random_state=42)\n",
    "\n",
    "# Decision Tree with max depth = 3\n",
    "clf_depth3 = DecisionTreeClassifier(max_depth=3, random_state=42)\n",
    "clf_depth3.fit(X_train, y_train)\n",
    "y_pred_depth3 = clf_depth3.predict(X_test)\n",
    "accuracy_depth3 = accuracy_score(y_test, y_pred_depth3)\n",
    "\n",
    "# Fully grown Decision Tree\n",
    "clf_full = DecisionTreeClassifier(random_state=42)\n",
    "clf_full.fit(X_train, y_train)\n",
    "y_pred_full = clf_full.predict(X_test)\n",
    "accuracy_full = accuracy_score(y_test, y_pred_full)\n",
    "\n",
    "print(f\"Accuracy (max_depth=3): {accuracy_depth3:.2f}\")\n",
    "print(f\"Accuracy (fully grown tree): {accuracy_full:.2f}\")\n"
   ]
  },
  {
   "cell_type": "code",
   "execution_count": 9,
   "id": "3b848e22-759f-4044-8991-518d052c21b1",
   "metadata": {},
   "outputs": [
    {
     "name": "stdout",
     "output_type": "stream",
     "text": [
      "Accuracy with min_samples_split=5: 1.00\n",
      "Accuracy with default tree: 1.00\n"
     ]
    }
   ],
   "source": [
    "#22)Write a Python program to train a Decision Tree Classifier using min_samples_split=5 and compare its\n",
    "#accuracy with a default tree\n",
    "from sklearn.datasets import load_iris\n",
    "from sklearn.tree import DecisionTreeClassifier\n",
    "from sklearn.model_selection import train_test_split\n",
    "from sklearn.metrics import accuracy_score\n",
    "\n",
    "iris = load_iris()\n",
    "X = iris.data\n",
    "y = iris.target\n",
    "\n",
    "X_train, X_test, y_train, y_test = train_test_split(X, y, test_size=0.2, random_state=42)\n",
    "\n",
    "# Decision Tree with min_samples_split=5\n",
    "clf_split_5 = DecisionTreeClassifier(min_samples_split=5, random_state=42)\n",
    "clf_split_5.fit(X_train, y_train)\n",
    "y_pred_split_5 = clf_split_5.predict(X_test)\n",
    "accuracy_split_5 = accuracy_score(y_test, y_pred_split_5)\n",
    "\n",
    "# Default Decision Tree\n",
    "clf_default = DecisionTreeClassifier(random_state=42)\n",
    "clf_default.fit(X_train, y_train)\n",
    "y_pred_default = clf_default.predict(X_test)\n",
    "accuracy_default = accuracy_score(y_test, y_pred_default)\n",
    "\n",
    "print(f\"Accuracy with min_samples_split=5: {accuracy_split_5:.2f}\")\n",
    "print(f\"Accuracy with default tree: {accuracy_default:.2f}\")\n"
   ]
  },
  {
   "cell_type": "code",
   "execution_count": 10,
   "id": "7ff9c9d7-1bfd-4000-a1d2-01261553a00e",
   "metadata": {},
   "outputs": [
    {
     "name": "stdout",
     "output_type": "stream",
     "text": [
      "Accuracy with unscaled data: 1.00\n",
      "Accuracy with scaled data: 1.00\n"
     ]
    }
   ],
   "source": [
    "#23) Write a Python program to apply feature scaling before training a Decision Tree Classifier and compare its\n",
    "#accuracy with unscaled data\n",
    "from sklearn.datasets import load_iris\n",
    "from sklearn.tree import DecisionTreeClassifier\n",
    "from sklearn.model_selection import train_test_split\n",
    "from sklearn.preprocessing import StandardScaler\n",
    "from sklearn.metrics import accuracy_score\n",
    "\n",
    "iris = load_iris()\n",
    "X = iris.data\n",
    "y = iris.target\n",
    "\n",
    "X_train, X_test, y_train, y_test = train_test_split(X, y, test_size=0.2, random_state=42)\n",
    "\n",
    "# Model with unscaled data\n",
    "clf_unscaled = DecisionTreeClassifier(random_state=42)\n",
    "clf_unscaled.fit(X_train, y_train)\n",
    "y_pred_unscaled = clf_unscaled.predict(X_test)\n",
    "accuracy_unscaled = accuracy_score(y_test, y_pred_unscaled)\n",
    "\n",
    "# Apply feature scaling\n",
    "scaler = StandardScaler()\n",
    "X_train_scaled = scaler.fit_transform(X_train)\n",
    "X_test_scaled = scaler.transform(X_test)\n",
    "\n",
    "# Model with scaled data\n",
    "clf_scaled = DecisionTreeClassifier(random_state=42)\n",
    "clf_scaled.fit(X_train_scaled, y_train)\n",
    "y_pred_scaled = clf_scaled.predict(X_test_scaled)\n",
    "accuracy_scaled = accuracy_score(y_test, y_pred_scaled)\n",
    "\n",
    "print(f\"Accuracy with unscaled data: {accuracy_unscaled:.2f}\")\n",
    "print(f\"Accuracy with scaled data: {accuracy_scaled:.2f}\")\n"
   ]
  },
  {
   "cell_type": "code",
   "execution_count": 11,
   "id": "400fb4ed-58e9-4414-ba03-32c7602b9529",
   "metadata": {},
   "outputs": [
    {
     "name": "stdout",
     "output_type": "stream",
     "text": [
      "Accuracy using One-vs-Rest strategy: 1.00\n"
     ]
    }
   ],
   "source": [
    "\n",
    "#24) Write a Python program to train a Decision Tree Classifier using One-vs-Rest (OvR) strategy for multiclass\n",
    "#classification\n",
    "from sklearn.datasets import load_iris\n",
    "from sklearn.tree import DecisionTreeClassifier\n",
    "from sklearn.model_selection import train_test_split\n",
    "from sklearn.multiclass import OneVsRestClassifier\n",
    "from sklearn.metrics import accuracy_score\n",
    "\n",
    "iris = load_iris()\n",
    "X = iris.data\n",
    "y = iris.target\n",
    "\n",
    "X_train, X_test, y_train, y_test = train_test_split(X, y, test_size=0.2, random_state=42)\n",
    "\n",
    "ovr_classifier = OneVsRestClassifier(DecisionTreeClassifier(random_state=42))\n",
    "ovr_classifier.fit(X_train, y_train)\n",
    "\n",
    "y_pred = ovr_classifier.predict(X_test)\n",
    "accuracy = accuracy_score(y_test, y_pred)\n",
    "\n",
    "print(f\"Accuracy using One-vs-Rest strategy: {accuracy:.2f}\")\n"
   ]
  },
  {
   "cell_type": "code",
   "execution_count": 12,
   "id": "37d84231-ced2-4618-93d6-69af7e4520c9",
   "metadata": {},
   "outputs": [
    {
     "name": "stdout",
     "output_type": "stream",
     "text": [
      "sepal length (cm): 0.0133\n",
      "sepal width (cm): 0.0000\n",
      "petal length (cm): 0.5641\n",
      "petal width (cm): 0.4226\n"
     ]
    }
   ],
   "source": [
    "#25)Write a Python program to train a Decision Tree Classifier and display the feature importance scores*\n",
    "from sklearn.datasets import load_iris\n",
    "from sklearn.tree import DecisionTreeClassifier\n",
    "\n",
    "iris = load_iris()\n",
    "X = iris.data\n",
    "y = iris.target\n",
    "\n",
    "clf = DecisionTreeClassifier(random_state=42)\n",
    "clf.fit(X, y)\n",
    "\n",
    "importances = clf.feature_importances_\n",
    "\n",
    "for feature, importance in zip(iris.feature_names, importances):\n",
    "    print(f\"{feature}: {importance:.4f}\")\n"
   ]
  },
  {
   "cell_type": "code",
   "execution_count": 13,
   "id": "e0dbb411-77d7-4e77-b910-a357424a8329",
   "metadata": {},
   "outputs": [
    {
     "name": "stdout",
     "output_type": "stream",
     "text": [
      "Mean Squared Error (max_depth=5): 0.52\n",
      "Mean Squared Error (unrestricted tree): 0.50\n"
     ]
    }
   ],
   "source": [
    "#26)Write a Python program to train a Decision Tree Regressor with max_depth=5 and compare its performance\n",
    "#with an unrestricted tree\n",
    "\n",
    "from sklearn.datasets import fetch_california_housing\n",
    "from sklearn.tree import DecisionTreeRegressor\n",
    "from sklearn.model_selection import train_test_split\n",
    "from sklearn.metrics import mean_squared_error\n",
    "\n",
    "data = fetch_california_housing()\n",
    "X = data.data\n",
    "y = data.target\n",
    "\n",
    "X_train, X_test, y_train, y_test = train_test_split(X, y, test_size=0.2, random_state=42)\n",
    "\n",
    "# Decision Tree Regressor with max_depth=5\n",
    "reg_depth5 = DecisionTreeRegressor(max_depth=5, random_state=42)\n",
    "reg_depth5.fit(X_train, y_train)\n",
    "y_pred_depth5 = reg_depth5.predict(X_test)\n",
    "mse_depth5 = mean_squared_error(y_test, y_pred_depth5)\n",
    "\n",
    "# Fully grown Decision Tree Regressor\n",
    "reg_full = DecisionTreeRegressor(random_state=42)\n",
    "reg_full.fit(X_train, y_train)\n",
    "y_pred_full = reg_full.predict(X_test)\n",
    "mse_full = mean_squared_error(y_test, y_pred_full)\n",
    "\n",
    "print(f\"Mean Squared Error (max_depth=5): {mse_depth5:.2f}\")\n",
    "print(f\"Mean Squared Error (unrestricted tree): {mse_full:.2f}\")\n",
    "\n"
   ]
  },
  {
   "cell_type": "code",
   "execution_count": 14,
   "id": "6a9db97c-72f6-4337-b2bf-a65e61314a70",
   "metadata": {},
   "outputs": [
    {
     "data": {
      "image/png": "[encoded data removed]",
      "text/plain": [
       "<Figure size 800x500 with 1 Axes>"
      ]
     },
     "metadata": {},
     "output_type": "display_data"
    }
   ],
   "source": [
    "\n",
    "#27)Write a Python program to train a Decision Tree Classifier, apply Cost Complexity Pruning (CCP), and\n",
    "#visualize its effect on accuracy\n",
    "\n",
    "import matplotlib.pyplot as plt\n",
    "from sklearn.datasets import load_iris\n",
    "from sklearn.tree import DecisionTreeClassifier\n",
    "from sklearn.model_selection import train_test_split\n",
    "from sklearn.metrics import accuracy_score\n",
    "\n",
    "# Load data\n",
    "iris = load_iris()\n",
    "X = iris.data\n",
    "y = iris.target\n",
    "\n",
    "# Train/test split\n",
    "X_train, X_test, y_train, y_test = train_test_split(X, y, test_size=0.2, random_state=42)\n",
    "\n",
    "# Initial classifier to get effective alphas\n",
    "clf = DecisionTreeClassifier(random_state=42)\n",
    "path = clf.cost_complexity_pruning_path(X_train, y_train)\n",
    "ccp_alphas = path.ccp_alphas\n",
    "\n",
    "# Train classifiers for each alpha\n",
    "clfs = []\n",
    "for alpha in ccp_alphas:\n",
    "    clf = DecisionTreeClassifier(random_state=42, ccp_alpha=alpha)\n",
    "    clf.fit(X_train, y_train)\n",
    "    clfs.append(clf)\n",
    "\n",
    "# Evaluate accuracy for each model\n",
    "train_scores = [accuracy_score(y_train, clf.predict(X_train)) for clf in clfs]\n",
    "test_scores = [accuracy_score(y_test, clf.predict(X_test)) for clf in clfs]\n",
    "\n",
    "# Plotting the accuracy vs ccp_alpha\n",
    "plt.figure(figsize=(8, 5))\n",
    "plt.plot(ccp_alphas, train_scores, marker='o', label='Train Accuracy')\n",
    "plt.plot(ccp_alphas, test_scores, marker='s', label='Test Accuracy')\n",
    "plt.xlabel(\"ccp_alpha\")\n",
    "plt.ylabel(\"Accuracy\")\n",
    "plt.title(\"Effect of CCP (Cost Complexity Pruning) on Accuracy\")\n",
    "plt.legend()\n",
    "plt.grid(True)\n",
    "plt.tight_layout()\n",
    "plt.show()\n"
   ]
  },
  {
   "cell_type": "code",
   "execution_count": 15,
   "id": "fb35dfe7-e61a-424a-85ef-767cc5c87168",
   "metadata": {},
   "outputs": [
    {
     "name": "stdout",
     "output_type": "stream",
     "text": [
      "Classification Report:\n",
      "              precision    recall  f1-score   support\n",
      "\n",
      "      setosa       1.00      1.00      1.00        10\n",
      "  versicolor       1.00      1.00      1.00         9\n",
      "   virginica       1.00      1.00      1.00        11\n",
      "\n",
      "    accuracy                           1.00        30\n",
      "   macro avg       1.00      1.00      1.00        30\n",
      "weighted avg       1.00      1.00      1.00        30\n",
      "\n"
     ]
    }
   ],
   "source": [
    "#28)Write a Python program to train a Decision Tree Classifier and evaluate its performance using Precision,\n",
    "#Recall, and F1-Score*\n",
    "from sklearn.datasets import load_iris\n",
    "from sklearn.tree import DecisionTreeClassifier\n",
    "from sklearn.model_selection import train_test_split\n",
    "from sklearn.metrics import classification_report\n",
    "\n",
    "# Load the Iris dataset\n",
    "iris = load_iris()\n",
    "X = iris.data\n",
    "y = iris.target\n",
    "\n",
    "# Train/test split\n",
    "X_train, X_test, y_train, y_test = train_test_split(X, y, test_size=0.2, random_state=42)\n",
    "\n",
    "# Train the Decision Tree Classifier\n",
    "clf = DecisionTreeClassifier(random_state=42)\n",
    "clf.fit(X_train, y_train)\n",
    "\n",
    "# Make predictions\n",
    "y_pred = clf.predict(X_test)\n",
    "\n",
    "# Print precision, recall, and F1-score\n",
    "print(\"Classification Report:\")\n",
    "print(classification_report(y_test, y_pred, target_names=iris.target_names))\n"
   ]
  },
  {
   "cell_type": "code",
   "execution_count": 16,
   "id": "84c5c955-045e-4944-bec9-e6712e214d46",
   "metadata": {},
   "outputs": [
    {
     "data": {
      "image/png": "[encoded data removed]",
      "text/plain": [
       "<Figure size 600x400 with 2 Axes>"
      ]
     },
     "metadata": {},
     "output_type": "display_data"
    }
   ],
   "source": [
    "#29)Write a Python program to train a Decision Tree Classifier and visualize the confusion matrix using seaborn\n",
    "\n",
    "import seaborn as sns\n",
    "import matplotlib.pyplot as plt\n",
    "from sklearn.datasets import load_iris\n",
    "from sklearn.tree import DecisionTreeClassifier\n",
    "from sklearn.model_selection import train_test_split\n",
    "from sklearn.metrics import confusion_matrix\n",
    "\n",
    "# Load Iris dataset\n",
    "iris = load_iris()\n",
    "X = iris.data\n",
    "y = iris.target\n",
    "\n",
    "# Train/test split\n",
    "X_train, X_test, y_train, y_test = train_test_split(X, y, test_size=0.2, random_state=42)\n",
    "\n",
    "# Train the Decision Tree Classifier\n",
    "clf = DecisionTreeClassifier(random_state=42)\n",
    "clf.fit(X_train, y_train)\n",
    "\n",
    "# Predict on the test set\n",
    "y_pred = clf.predict(X_test)\n",
    "\n",
    "# Compute confusion matrix\n",
    "cm = confusion_matrix(y_test, y_pred)\n",
    "\n",
    "# Plot confusion matrix\n",
    "plt.figure(figsize=(6, 4))\n",
    "sns.heatmap(cm, annot=True, fmt='d', cmap='Blues', xticklabels=iris.target_names, yticklabels=iris.target_names)\n",
    "plt.xlabel('Predicted')\n",
    "plt.ylabel('Actual')\n",
    "plt.title('Confusion Matrix')\n",
    "plt.tight_layout()\n",
    "plt.show()\n"
   ]
  },
  {
   "cell_type": "code",
   "execution_count": 17,
   "id": "443146d8-7c36-4ed7-8834-8f50b7a99eb8",
   "metadata": {},
   "outputs": [
    {
     "name": "stdout",
     "output_type": "stream",
     "text": [
      "Best Parameters: {'max_depth': 4, 'min_samples_split': 2}\n",
      "\n",
      "Classification Report:\n",
      "              precision    recall  f1-score   support\n",
      "\n",
      "      setosa       1.00      1.00      1.00        10\n",
      "  versicolor       1.00      1.00      1.00         9\n",
      "   virginica       1.00      1.00      1.00        11\n",
      "\n",
      "    accuracy                           1.00        30\n",
      "   macro avg       1.00      1.00      1.00        30\n",
      "weighted avg       1.00      1.00      1.00        30\n",
      "\n"
     ]
    }
   ],
   "source": [
    "#30)write a Python program to train a Decision Tree Classifier and use GridSearchCV to find the optimal values\n",
    "#for max_depth and min_samples_split.\n",
    "\n",
    "from sklearn.datasets import load_iris\n",
    "from sklearn.tree import DecisionTreeClassifier\n",
    "from sklearn.model_selection import train_test_split, GridSearchCV\n",
    "from sklearn.metrics import classification_report\n",
    "\n",
    "# Load dataset\n",
    "iris = load_iris()\n",
    "X = iris.data\n",
    "y = iris.target\n",
    "\n",
    "# Train/test split\n",
    "X_train, X_test, y_train, y_test = train_test_split(X, y, test_size=0.2, random_state=42)\n",
    "\n",
    "# Create the model\n",
    "clf = DecisionTreeClassifier(random_state=42)\n",
    "\n",
    "# Set up the hyperparameter grid\n",
    "param_grid = {\n",
    "    'max_depth': [2, 3, 4, 5, 6, None],\n",
    "    'min_samples_split': [2, 4, 6, 8, 10]\n",
    "}\n",
    "\n",
    "# GridSearchCV setup\n",
    "grid_search = GridSearchCV(estimator=clf, param_grid=param_grid, cv=5, scoring='accuracy')\n",
    "grid_search.fit(X_train, y_train)\n",
    "\n",
    "# Best model\n",
    "best_clf = grid_search.best_estimator_\n",
    "y_pred = best_clf.predict(X_test)\n",
    "\n",
    "# Output\n",
    "print(\"Best Parameters:\", grid_search.best_params_)\n",
    "print(\"\\nClassification Report:\")\n",
    "print(classification_report(y_test, y_pred, target_names=iris.target_names))\n"
   ]
  },
  {
   "cell_type": "code",
   "execution_count": null,
   "id": "ca16b64d-3c33-4d51-aba5-5ab8104ef965",
   "metadata": {},
   "outputs": [],
   "source": []
  }
 ],
 "metadata": {
  "kernelspec": {
   "display_name": "Python 3 (ipykernel)",
   "language": "python",
   "name": "python3"
  },
  "language_info": {
   "codemirror_mode": {
    "name": "ipython",
    "version": 3
   },
   "file_extension": ".py",
   "mimetype": "text/x-python",
   "name": "python",
   "nbconvert_exporter": "python",
   "pygments_lexer": "ipython3",
   "version": "3.12.4"
  }
 },
 "nbformat": 4,
 "nbformat_minor": 5
}
